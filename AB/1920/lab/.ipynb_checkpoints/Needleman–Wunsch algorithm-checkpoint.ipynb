{
 "cells": [
  {
   "cell_type": "code",
   "execution_count": 24,
   "metadata": {},
   "outputs": [],
   "source": [
    "import numpy as np"
   ]
  },
  {
   "cell_type": "code",
   "execution_count": 6,
   "metadata": {},
   "outputs": [
    {
     "name": "stdout",
     "output_type": "stream",
     "text": [
      "Insert string 1: tgac\n",
      "Insert string 2: acgtc\n",
      "Do you want to modify the std weights: [Y|N] N\n"
     ]
    }
   ],
   "source": [
    "string_1 = input('Insert string 1: ')\n",
    "string_2 = input('Insert string 2: ')\n",
    "\n",
    "match = 1\n",
    "mismatch = -1\n",
    "gap = -2\n",
    "\n",
    "\n",
    "boolean_modify = input('Do you want to modify the std weights: [Y|N] ')\n",
    "if (boolean_modify == 'Y' or boolean_modify == 'y'):\n",
    "\tmatch = float(input('Insert match: '))\n",
    "\tmismatch = float(input('Insert mismatch: '))\n",
    "\tgap = float(input('Insert gap: '))\n",
    "\n",
    "string_1 = \"-\" + string_1\n",
    "string_2 = \"-\" + string_2"
   ]
  },
  {
   "cell_type": "code",
   "execution_count": 7,
   "metadata": {},
   "outputs": [
    {
     "name": "stdout",
     "output_type": "stream",
     "text": [
      "[[0. 0. 0. 0. 0. 0.]\n",
      " [0. 3. 1. 1. 3. 1.]\n",
      " [0. 2. 3. 3. 1. 1.]\n",
      " [0. 3. 2. 3. 3. 1.]\n",
      " [0. 2. 3. 1. 3. 3.]]\n"
     ]
    }
   ],
   "source": [
    "# init\n",
    "M = np.zeros((len(string_1), len(string_2)))\n",
    "D = np.zeros((len(string_1), len(string_2)))\n",
    "\n",
    "for i in range(1, len(string_1)):\n",
    "    M[i][0] = M[i-1][0] + gap\n",
    "for j in range(1, len(string_2)):\n",
    "    M[0][j] = M[0][j-1] + gap\n",
    "\n",
    "# algorithm\n",
    "for i in range(1, len(string_1)):\n",
    "    for j in range(1, len(string_2)):\n",
    "        if string_1[i] == string_2[j]:\n",
    "            matchCase = match\n",
    "        else:\n",
    "            matchCase = mismatch\n",
    "        \n",
    "        # match or mismatch, gap1, gap2 \n",
    "        arr = []\n",
    "        arr.append(-inf)\n",
    "        arr.append(M[i-1][j-1] + matchCase) \n",
    "        arr.append(M[i-1][j] + gap)\n",
    "        arr.append(M[i][j-1] + gap)\n",
    "\n",
    "        \n",
    "        # remember direction\n",
    "        if right_down == max(right_down, right, down):\n",
    "            D[i][j] = 3\n",
    "        if right == max(right_down, right, down):\n",
    "            D[i][j] = 2\n",
    "        if down == max(right_down, right, down):\n",
    "            D[i][j] = 1\n",
    "    \n",
    "        M[i][j] = max(right_down, right, down)\n",
    "\n",
    "# 3 = left-up\n",
    "# 2 = up\n",
    "# 1 = left\n",
    "        \n",
    "print(D)"
   ]
  },
  {
   "cell_type": "code",
   "execution_count": 8,
   "metadata": {},
   "outputs": [
    {
     "data": {
      "text/plain": [
       "array([[  0.,  -2.,  -4.,  -6.,  -8., -10.],\n",
       "       [ -2.,  -1.,  -3.,  -5.,  -5.,  -7.],\n",
       "       [ -4.,  -3.,  -2.,  -2.,  -4.,  -6.],\n",
       "       [ -6.,  -3.,  -4.,  -3.,  -3.,  -5.],\n",
       "       [ -8.,  -5.,  -2.,  -4.,  -4.,  -2.]])"
      ]
     },
     "execution_count": 8,
     "metadata": {},
     "output_type": "execute_result"
    }
   ],
   "source": [
    "M"
   ]
  },
  {
   "cell_type": "code",
   "execution_count": 13,
   "metadata": {},
   "outputs": [],
   "source": [
    "seq1 = string_1\n",
    "seq2 = string_2"
   ]
  },
  {
   "cell_type": "code",
   "execution_count": 17,
   "metadata": {},
   "outputs": [
    {
     "data": {
      "text/plain": [
       "-2.0"
      ]
     },
     "execution_count": 17,
     "metadata": {},
     "output_type": "execute_result"
    }
   ],
   "source": [
    "# construct the sequence\n",
    "\n",
    "# find the bottom right value\n",
    "i = len(seq1) -1\n",
    "j = len(seq2) -1\n",
    "M[i][j]\n",
    "if D[i][j] == "
   ]
  },
  {
   "cell_type": "code",
   "execution_count": 23,
   "metadata": {},
   "outputs": [
    {
     "ename": "TypeError",
     "evalue": "__call__() got an unexpected keyword argument 'left'",
     "output_type": "error",
     "traceback": [
      "\u001b[0;31m---------------------------------------------------------------------------\u001b[0m",
      "\u001b[0;31mTypeError\u001b[0m                                 Traceback (most recent call last)",
      "\u001b[0;32m<ipython-input-23-d36bc2362012>\u001b[0m in \u001b[0;36m<module>\u001b[0;34m()\u001b[0m\n\u001b[0;32m----> 1\u001b[0;31m \u001b[0mDirection\u001b[0m \u001b[0;34m=\u001b[0m \u001b[0menum\u001b[0m\u001b[0;34m(\u001b[0m\u001b[0mleft\u001b[0m\u001b[0;34m=\u001b[0m\u001b[0;36m1\u001b[0m\u001b[0;34m,\u001b[0m \u001b[0mup\u001b[0m\u001b[0;34m=\u001b[0m\u001b[0;36m2\u001b[0m\u001b[0;34m,\u001b[0m \u001b[0mleftUp\u001b[0m\u001b[0;34m=\u001b[0m\u001b[0;36m3\u001b[0m\u001b[0;34m)\u001b[0m\u001b[0;34m\u001b[0m\u001b[0;34m\u001b[0m\u001b[0m\n\u001b[0m",
      "\u001b[0;31mTypeError\u001b[0m: __call__() got an unexpected keyword argument 'left'"
     ]
    }
   ],
   "source": [
    "class Direction: \n",
    "    left=1 \n",
    "    up=2\n",
    "    leftUp=3"
   ]
  },
  {
   "cell_type": "code",
   "execution_count": null,
   "metadata": {},
   "outputs": [],
   "source": []
  }
 ],
 "metadata": {
  "kernelspec": {
   "display_name": "Python 3",
   "language": "python",
   "name": "python3"
  },
  "language_info": {
   "codemirror_mode": {
    "name": "ipython",
    "version": 3
   },
   "file_extension": ".py",
   "mimetype": "text/x-python",
   "name": "python",
   "nbconvert_exporter": "python",
   "pygments_lexer": "ipython3",
   "version": "3.6.9"
  }
 },
 "nbformat": 4,
 "nbformat_minor": 2
}
