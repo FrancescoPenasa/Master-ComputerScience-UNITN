{
 "cells": [
  {
   "cell_type": "code",
   "execution_count": 1,
   "metadata": {},
   "outputs": [],
   "source": [
    "import numpy as np"
   ]
  },
  {
   "cell_type": "code",
   "execution_count": 48,
   "metadata": {},
   "outputs": [
    {
     "name": "stdout",
     "output_type": "stream",
     "text": [
      "Insert string 1: GCATGCU\n",
      "Insert string 2: GATTACA\n",
      "Do you want to modify the std weights: [Y|N] Y\n",
      "Insert match: 1\n",
      "Insert mismatch: -1\n",
      "Insert gap: -1\n"
     ]
    }
   ],
   "source": [
    "string_1 = input('Insert string 1: ')\n",
    "string_2 = input('Insert string 2: ')\n",
    "\n",
    "match = 1\n",
    "mismatch = -1\n",
    "gap = -2\n",
    "\n",
    "\n",
    "boolean_modify = input('Do you want to modify the std weights: [Y|N] ')\n",
    "if (boolean_modify == 'Y' or boolean_modify == 'y'):\n",
    "\tmatch = float(input('Insert match: '))\n",
    "\tmismatch = float(input('Insert mismatch: '))\n",
    "\tgap = float(input('Insert gap: '))\n",
    "\n",
    "string_1 = \"-\" + string_1\n",
    "string_2 = \"-\" + string_2"
   ]
  },
  {
   "cell_type": "code",
   "execution_count": 57,
   "metadata": {},
   "outputs": [
    {
     "name": "stdout",
     "output_type": "stream",
     "text": [
      "[[0. 0. 0. 0. 0. 0. 0. 0.]\n",
      " [0. 3. 1. 1. 1. 1. 1. 1.]\n",
      " [0. 2. 3. 3. 1. 1. 1. 1.]\n",
      " [0. 2. 2. 2. 3. 1. 1. 1.]\n",
      " [0. 2. 2. 2. 2. 3. 1. 1.]\n",
      " [0. 2. 2. 3. 2. 2. 3. 1.]\n",
      " [0. 2. 3. 2. 2. 2. 3. 1.]\n",
      " [0. 2. 2. 3. 1. 2. 2. 3.]]\n"
     ]
    }
   ],
   "source": [
    "# init\n",
    "M = np.zeros((len(string_1), len(string_2)))\n",
    "D = np.zeros((len(string_1), len(string_2)))\n",
    "\n",
    "for i in range(1, len(string_1)):\n",
    "    M[i][0] = M[i-1][0] + gap\n",
    "for j in range(1, len(string_2)):\n",
    "    M[0][j] = M[0][j-1] + gap\n",
    "\n",
    "# algorithm\n",
    "for i in range(1, len(string_1)):\n",
    "    for j in range(1, len(string_2)):\n",
    "        if string_1[i] == string_2[j]:\n",
    "            matchCase = match\n",
    "        else:\n",
    "            matchCase = mismatch\n",
    "        \n",
    "        # match or mismatch, gap1, gap2 \n",
    "        right_down = M[i-1][j-1] + matchCase \n",
    "        right = M[i-1][j] + gap\n",
    "        down = M[i][j-1] + gap\n",
    "        \n",
    "        # remember direction\n",
    "        if right_down == max(right_down, right, down):\n",
    "            D[i][j] = 3\n",
    "        if right == max(right_down, right, down):\n",
    "            D[i][j] = 2\n",
    "        if down == max(right_down, right, down):\n",
    "            D[i][j] = 1\n",
    "    \n",
    "        M[i][j] = max(right_down, right, down)\n",
    "\n",
    "# 3 = left-up\n",
    "# 2 = up\n",
    "# 1 = left\n",
    "        \n",
    "print(D)"
   ]
  },
  {
   "cell_type": "code",
   "execution_count": 58,
   "metadata": {},
   "outputs": [
    {
     "data": {
      "text/plain": [
       "array([[ 0., -1., -2., -3., -4., -5., -6., -7.],\n",
       "       [-1.,  1.,  0., -1., -2., -3., -4., -5.],\n",
       "       [-2.,  0.,  0.,  1.,  0., -1., -2., -3.],\n",
       "       [-3., -1., -1.,  0.,  2.,  1.,  0., -1.],\n",
       "       [-4., -2., -2., -1.,  1.,  1.,  0., -1.],\n",
       "       [-5., -3., -3., -1.,  0.,  0.,  0., -1.],\n",
       "       [-6., -4., -2., -2., -1., -1.,  1.,  0.],\n",
       "       [-7., -5., -3., -1., -2., -2.,  0.,  0.]])"
      ]
     },
     "execution_count": 58,
     "metadata": {},
     "output_type": "execute_result"
    }
   ],
   "source": [
    "M"
   ]
  },
  {
   "cell_type": "code",
   "execution_count": null,
   "metadata": {},
   "outputs": [],
   "source": []
  },
  {
   "cell_type": "code",
   "execution_count": null,
   "metadata": {},
   "outputs": [],
   "source": []
  }
 ],
 "metadata": {
  "kernelspec": {
   "display_name": "Python 3",
   "language": "python",
   "name": "python3"
  },
  "language_info": {
   "codemirror_mode": {
    "name": "ipython",
    "version": 3
   },
   "file_extension": ".py",
   "mimetype": "text/x-python",
   "name": "python",
   "nbconvert_exporter": "python",
   "pygments_lexer": "ipython3",
   "version": "3.6.9"
  }
 },
 "nbformat": 4,
 "nbformat_minor": 2
}
